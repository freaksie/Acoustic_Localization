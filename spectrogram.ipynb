{
 "cells": [
  {
   "cell_type": "code",
   "execution_count": 1,
   "metadata": {},
   "outputs": [],
   "source": [
    "import os\n",
    "import librosa\n",
    "import librosa.display\n",
    "import IPython.display as ipd\n",
    "import numpy as np\n",
    "import matplotlib.pyplot as plt"
   ]
  },
  {
   "cell_type": "code",
   "execution_count": null,
   "metadata": {},
   "outputs": [],
   "source": [
    "file_path=\"dataset/audio/3m_train.wav\"\n",
    "file,sample_rate=librosa.load(file_path,sr=None,mono=False)\n",
    "print(file.shape)\n",
    "print(sample_rate)\n",
    "\n"
   ]
  },
  {
   "cell_type": "markdown",
   "metadata": {},
   "source": [
    "# divide audio into chunkes of 1 sec clip"
   ]
  },
  {
   "cell_type": "code",
   "execution_count": null,
   "metadata": {},
   "outputs": [],
   "source": [
    "import soundfile as sf\n",
    "# sf.write('dataset/datachunks/test.wav', file[48000:96000], sample_rate)\n",
    "k=sample_rate\n",
    "i=0\n",
    "cnt=0\n",
    "while i < len(file[0]):\n",
    "    if k<len(file[0]):\n",
    "        sf.write('dataset/datachunks/channel1_test'+str(cnt)+'.wav', file[0][i:k], sample_rate)\n",
    "        sf.write('dataset/datachunks/channel2_test'+str(cnt)+'.wav', file[1][i:k], sample_rate)\n",
    "    else:\n",
    "        sf.write('dataset/datachunks/channel1_test'+str(cnt)+'.wav', file[0][i:], sample_rate)\n",
    "        sf.write('dataset/datachunks/channel2_test'+str(cnt)+'.wav', file[0][i:], sample_rate)\n",
    "    i=k\n",
    "    cnt+=1\n",
    "    k+=sample_rate\n"
   ]
  },
  {
   "cell_type": "code",
   "execution_count": null,
   "metadata": {},
   "outputs": [],
   "source": [
    "ipd.Audio(file,rate=sample_rate)"
   ]
  },
  {
   "cell_type": "code",
   "execution_count": null,
   "metadata": {},
   "outputs": [],
   "source": [
    "for i in reversed(os.listdir(\"dataset/datachunks/\")):\n",
    "    print(i)\n"
   ]
  },
  {
   "cell_type": "code",
   "execution_count": null,
   "metadata": {},
   "outputs": [],
   "source": [
    "spec=[]\n",
    "frame_size=2048\n",
    "hop_size=128\n",
    "chunk_path=\"dataset/datachunks\"\n",
    "chunk_aud_name=[]\n",
    "for i in reversed(os.listdir(chunk_path)):\n",
    "    chunk_aud_name.append(i[:-4])\n",
    "    file,sample_rate=librosa.load(chunk_path+\"/\"+i,sr=None,mono=False)\n",
    "    print(file.shape)\n",
    "    # ipd.Audio(chunk_path+\"/\"+i,rate=sample_rate)\n",
    "    spec.append(librosa.stft(file,n_fft=frame_size,hop_length=hop_size))\n",
    "print(spec[0].shape)\n",
    "print(chunk_aud_name)"
   ]
  },
  {
   "cell_type": "code",
   "execution_count": null,
   "metadata": {},
   "outputs": [],
   "source": [
    "\n",
    "for i in range(len(spec)):\n",
    "    spec[i]=np.abs(spec[i])**2\n",
    "def plot_spectrogram(Y, sr, hop_length, img_name, y_axis=\"linear\"):\n",
    "    plt.figure(figsize=(25, 10))\n",
    "    # plt.axis('off')\n",
    "    librosa.display.specshow(Y, \n",
    "                             sr=sr, \n",
    "                             hop_length=hop_length, \n",
    "                             x_axis=\"time\", \n",
    "                             y_axis=y_axis)\n",
    "    # plt.savefig(img_name+\".jpg\",bbox_inches='tight', pad_inches=0)\n",
    "    print(img_name)\n",
    "# plot_spectrogram(spec, sample_rate, hop_size)"
   ]
  },
  {
   "cell_type": "code",
   "execution_count": null,
   "metadata": {},
   "outputs": [],
   "source": [
    "spec_log=[]\n",
    "for i in range(len(spec)):\n",
    "    spec_log.append(librosa.power_to_db(spec[i]))\n",
    "    plot_spectrogram(spec_log[i], sample_rate, hop_size, \"dataset/spectrogram/\"+chunk_aud_name[i],y_axis=\"log\")"
   ]
  },
  {
   "cell_type": "code",
   "execution_count": null,
   "metadata": {},
   "outputs": [],
   "source": []
  }
 ],
 "metadata": {
  "kernelspec": {
   "display_name": "Python 3.9.13 ('base')",
   "language": "python",
   "name": "python3"
  },
  "language_info": {
   "codemirror_mode": {
    "name": "ipython",
    "version": 3
   },
   "file_extension": ".py",
   "mimetype": "text/x-python",
   "name": "python",
   "nbconvert_exporter": "python",
   "pygments_lexer": "ipython3",
   "version": "3.9.13"
  },
  "orig_nbformat": 4,
  "vscode": {
   "interpreter": {
    "hash": "1e7274ed0f6198f0b80ec6c61f69697cbc6657ab90adeb9c17021c87e139f38f"
   }
  }
 },
 "nbformat": 4,
 "nbformat_minor": 2
}
