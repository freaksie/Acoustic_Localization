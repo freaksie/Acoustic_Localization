{
 "cells": [
  {
   "cell_type": "code",
   "execution_count": 2,
   "metadata": {},
   "outputs": [],
   "source": [
    "import numpy as np\n",
    "import pandas as pd\n",
    "import torch\n",
    "import torch.nn as nn\n",
    "import keras\n",
    "import tensorflow as tf\n",
    "import tensorflow_addons as tfa\n",
    "from torchvision import datasets\n",
    "from torchvision import transforms\n",
    "from torch.utils.data.sampler import SubsetRandomSampler\n",
    "from keras.applications.vgg16 import VGG16\n",
    "from keras.applications.vgg16 import preprocess_input\n",
    "from keras.models import Model, Sequential, load_model\n",
    "from tensorflow.keras.preprocessing.image import img_to_array, load_img\n",
    "from keras.optimizers import Adam, Adamax, SGD\n",
    "from keras.layers import Dense, Conv2D, MaxPool2D , Flatten , Input\n",
    "from keras.losses import categorical_crossentropy\n",
    "from keras.callbacks import ModelCheckpoint, EarlyStopping\n",
    "from keras import metrics\n",
    "from sklearn.utils import class_weight\n",
    "from sklearn.model_selection import train_test_split\n",
    "from collections import Counter\n",
    "import cv2\n",
    "import matplotlib.pyplot as plt\n",
    "import mimetypes\n",
    "import argparse\n",
    "import imutils\n",
    "import os\n",
    "from os import listdir\n",
    "from os.path import isfile, join\n",
    "# TF_ENABLE_ONEDNN_OPTS=0"
   ]
  },
  {
   "cell_type": "code",
   "execution_count": 3,
   "metadata": {},
   "outputs": [
    {
     "name": "stdout",
     "output_type": "stream",
     "text": [
      "<tensorflow.python.eager.context._EagerDeviceContext object at 0x7ff3a55edcc0>\n"
     ]
    },
    {
     "name": "stderr",
     "output_type": "stream",
     "text": [
      "2022-11-16 16:25:09.049191: I tensorflow/core/platform/cpu_feature_guard.cc:193] This TensorFlow binary is optimized with oneAPI Deep Neural Network Library (oneDNN) to use the following CPU instructions in performance-critical operations:  AVX2 AVX512F AVX512_VNNI FMA\n",
      "To enable them in other operations, rebuild TensorFlow with the appropriate compiler flags.\n",
      "2022-11-16 16:25:11.198990: I tensorflow/core/common_runtime/gpu/gpu_device.cc:1616] Created device /job:localhost/replica:0/task:0/device:GPU:0 with 45612 MB memory:  -> device: 0, name: NVIDIA RTX A6000, pci bus id: 0000:19:00.0, compute capability: 8.6\n"
     ]
    }
   ],
   "source": [
    "# Device configuration\n",
    "import tensorflow as tf\n",
    "device = torch.device('cuda' if torch.cuda.is_available() else 'cpu')\n",
    "print(tf.device('/gpu:0'))\n"
   ]
  },
  {
   "cell_type": "code",
   "execution_count": 4,
   "metadata": {},
   "outputs": [],
   "source": [
    "label_file_path=\"/home/neel/Acoustic/Acoustics/data/labels/\"\n",
    "labels=[]\n",
    "loss=64.34\n",
    "for i in os.listdir(label_file_path):\n",
    "    labels.append(i[:-4])\n",
    "dataset=[]\n",
    "for label in labels:\n",
    "    row=[]\n",
    "    file=open(label_file_path+label+\".txt\",\"r\")\n",
    "    label_s=file.read()\n",
    "    label_list=label_s.replace('\\n','').split(\" \")\n",
    "    channel1=\"channel1_\"+label+\".jpg\"\n",
    "    channel2=\"channel2_\"+label+\".jpg\"\n",
    "    row.append(channel1)\n",
    "    row.append(channel2)\n",
    "    for cord in label_list[1:]:\n",
    "        row.append(cord)\n",
    "    dataset.append(row)"
   ]
  },
  {
   "cell_type": "code",
   "execution_count": 5,
   "metadata": {},
   "outputs": [],
   "source": [
    "datasets=pd.DataFrame(dataset)"
   ]
  },
  {
   "cell_type": "code",
   "execution_count": 6,
   "metadata": {},
   "outputs": [],
   "source": [
    "datasets.to_csv('data/train.csv', header=False, index=False)"
   ]
  },
  {
   "cell_type": "code",
   "execution_count": 7,
   "metadata": {},
   "outputs": [],
   "source": [
    "base_path=\"/home/neel/Acoustic/Acoustics/data\"\n",
    "spectrogram_path=os.path.sep.join([base_path,\"images\"])\n",
    "annots_path=os.path.sep.join([base_path,\"train.csv\"])\n",
    "\n",
    "base_output=\"/home/neel/Acoustic/Acoustics/output\"\n",
    "model_path=os.path.sep.join([base_output,\"detector.h5\"])\n",
    "plot_path=os.path.sep.join([base_output,\"plot.png\"])\n",
    "test_file=os.path.sep.join([base_output,\"test.txt\"])"
   ]
  },
  {
   "cell_type": "code",
   "execution_count": null,
   "metadata": {},
   "outputs": [
    {
     "name": "stdout",
     "output_type": "stream",
     "text": [
      "[INFO] loading dataset...\n"
     ]
    }
   ],
   "source": [
    "print(\"[INFO] loading dataset...\")\n",
    "rows = open(annots_path).read().strip().split(\"\\n\")\n",
    "spectrogram1=[]\n",
    "spectrogram2=[]\n",
    "bounding_box_cords=[]\n",
    "filenames=[]\n",
    "for row in rows:\n",
    "    row = row.split(\",\")\n",
    "    (filename1,filename2,startX, startY, endX, endY) = row\n",
    "    imagePath1 = os.path.sep.join([spectrogram_path, filename1])\n",
    "    imagePath2 = os.path.sep.join([spectrogram_path, filename2])\n",
    "    image1 = cv2.imread(imagePath1)\n",
    "    image2=cv2.imread(imagePath2)\n",
    "    (h, w) = image1.shape[:2]\n",
    "    # startX = float(startX) / w\n",
    "    # startY = float(startY) / h\n",
    "    # endX = float(endX) / w\n",
    "    # endY = float(endY) / h\n",
    "    image1=load_img(imagePath1,target_size=(640,640))\n",
    "    image1=img_to_array(image1)\n",
    "    image2=load_img(imagePath2,target_size=(640,640))\n",
    "    image2=img_to_array(image2)\n",
    "    # spectrogram.append([image1,image2])\n",
    "    spectrogram1.append(image1)\n",
    "    spectrogram2.append(image2)\n",
    "    bounding_box_cords.append((startX,startY,endX,endY))\n",
    "    filenames.append([filename1,filename2])\n",
    "    # filenames.append(filename1)\n",
    "print(\"Done.\")"
   ]
  },
  {
   "cell_type": "code",
   "execution_count": 8,
   "metadata": {},
   "outputs": [
    {
     "data": {
      "text/plain": [
       "(316, 640, 640, 6)"
      ]
     },
     "execution_count": 8,
     "metadata": {},
     "output_type": "execute_result"
    }
   ],
   "source": [
    "data1 = np.array(spectrogram1, dtype=\"float32\") / 255.0    #(example , height, width, rgb*channel) = (316,640,640,3*2)\n",
    "data2 = np.array(spectrogram2, dtype=\"float32\") / 255.0 \n",
    "targets = np.array(bounding_box_cords, dtype=\"float32\")\n",
    "# data1.shape   #(example, cords) = (316,4)\n",
    "data=np.concatenate((data1,data2),axis=-1)\n",
    "data.shape"
   ]
  },
  {
   "cell_type": "code",
   "execution_count": 9,
   "metadata": {},
   "outputs": [
    {
     "name": "stdout",
     "output_type": "stream",
     "text": [
      "[INFO] saving testing filenames...\n"
     ]
    }
   ],
   "source": [
    "split = train_test_split(data, targets, filenames, test_size=0.10,random_state=42)\n",
    "(trainImages, testImages) = split[:2]\n",
    "(trainTargets, testTargets) = split[2:4]\n",
    "(trainFilenames, testFilenames) = split[4:]\n",
    "\n",
    "print(\"[INFO] saving testing filenames...\")\n",
    "f = open(test_file, \"w\")\n",
    "for i in testFilenames:\n",
    "    f.write(i[0]+\",\"+i[1])\n",
    "    f.write(\"\\n\")\n",
    "# f.write(\"\\n\".join(testFilenames))\n",
    "f.close()"
   ]
  },
  {
   "cell_type": "code",
   "execution_count": 10,
   "metadata": {},
   "outputs": [],
   "source": [
    "vgg = VGG16(weights=None, include_top=False,input_tensor=Input(shape=(640, 640, 6)))\n",
    "vgg.trainable = False\n",
    "# flatten the max-pooling output of VGG\n",
    "flatten = vgg.output\n",
    "flatten = Flatten()(flatten)\n",
    "# construct a fully-connected layer header to output the predicted\n",
    "# bounding box coordinates\n",
    "bboxHead = Dense(128, activation=\"relu\")(flatten)\n",
    "bboxHead = Dense(64, activation=\"relu\")(bboxHead)\n",
    "bboxHead = Dense(32, activation=\"relu\")(bboxHead)\n",
    "bboxHead = Dense(4, activation=\"sigmoid\")(bboxHead)\n",
    "model = Model(inputs=vgg.input, outputs=bboxHead)"
   ]
  },
  {
   "cell_type": "code",
   "execution_count": 11,
   "metadata": {},
   "outputs": [
    {
     "name": "stdout",
     "output_type": "stream",
     "text": [
      "[name: \"/device:CPU:0\"\n",
      "device_type: \"CPU\"\n",
      "memory_limit: 268435456\n",
      "locality {\n",
      "}\n",
      "incarnation: 11073208962805952383\n",
      "xla_global_id: -1\n",
      ", name: \"/device:GPU:0\"\n",
      "device_type: \"GPU\"\n",
      "memory_limit: 47764930560\n",
      "locality {\n",
      "  bus_id: 1\n",
      "  links {\n",
      "  }\n",
      "}\n",
      "incarnation: 14341429818629758154\n",
      "physical_device_desc: \"device: 0, name: NVIDIA RTX A6000, pci bus id: 0000:19:00.0, compute capability: 8.6\"\n",
      "xla_global_id: 416903419\n",
      "]\n"
     ]
    },
    {
     "name": "stderr",
     "output_type": "stream",
     "text": [
      "2022-11-11 11:51:20.165302: I tensorflow/core/common_runtime/gpu/gpu_device.cc:1616] Created device /device:GPU:0 with 45552 MB memory:  -> device: 0, name: NVIDIA RTX A6000, pci bus id: 0000:19:00.0, compute capability: 8.6\n"
     ]
    }
   ],
   "source": [
    "# tf.test.is_gpu_available()\n",
    "from tensorflow.python.client import device_lib \n",
    "print(device_lib.list_local_devices())"
   ]
  },
  {
   "cell_type": "code",
   "execution_count": 12,
   "metadata": {},
   "outputs": [],
   "source": [
    "# hyper parameters\n",
    "init_lr=1e-4\n",
    "epoch=50\n",
    "batch_size=16"
   ]
  },
  {
   "cell_type": "code",
   "execution_count": 15,
   "metadata": {},
   "outputs": [
    {
     "name": "stdout",
     "output_type": "stream",
     "text": [
      "Model: \"model\"\n",
      "_________________________________________________________________\n",
      " Layer (type)                Output Shape              Param #   \n",
      "=================================================================\n",
      " input_1 (InputLayer)        [(None, 640, 640, 6)]     0         \n",
      "                                                                 \n",
      " block1_conv1 (Conv2D)       (None, 640, 640, 64)      3520      \n",
      "                                                                 \n",
      " block1_conv2 (Conv2D)       (None, 640, 640, 64)      36928     \n",
      "                                                                 \n",
      " block1_pool (MaxPooling2D)  (None, 320, 320, 64)      0         \n",
      "                                                                 \n",
      " block2_conv1 (Conv2D)       (None, 320, 320, 128)     73856     \n",
      "                                                                 \n",
      " block2_conv2 (Conv2D)       (None, 320, 320, 128)     147584    \n",
      "                                                                 \n",
      " block2_pool (MaxPooling2D)  (None, 160, 160, 128)     0         \n",
      "                                                                 \n",
      " block3_conv1 (Conv2D)       (None, 160, 160, 256)     295168    \n",
      "                                                                 \n",
      " block3_conv2 (Conv2D)       (None, 160, 160, 256)     590080    \n",
      "                                                                 \n",
      " block3_conv3 (Conv2D)       (None, 160, 160, 256)     590080    \n",
      "                                                                 \n",
      " block3_pool (MaxPooling2D)  (None, 80, 80, 256)       0         \n",
      "                                                                 \n",
      " block4_conv1 (Conv2D)       (None, 80, 80, 512)       1180160   \n",
      "                                                                 \n",
      " block4_conv2 (Conv2D)       (None, 80, 80, 512)       2359808   \n",
      "                                                                 \n",
      " block4_conv3 (Conv2D)       (None, 80, 80, 512)       2359808   \n",
      "                                                                 \n",
      " block4_pool (MaxPooling2D)  (None, 40, 40, 512)       0         \n",
      "                                                                 \n",
      " block5_conv1 (Conv2D)       (None, 40, 40, 512)       2359808   \n",
      "                                                                 \n",
      " block5_conv2 (Conv2D)       (None, 40, 40, 512)       2359808   \n",
      "                                                                 \n",
      " block5_conv3 (Conv2D)       (None, 40, 40, 512)       2359808   \n",
      "                                                                 \n",
      " block5_pool (MaxPooling2D)  (None, 20, 20, 512)       0         \n",
      "                                                                 \n",
      " flatten (Flatten)           (None, 204800)            0         \n",
      "                                                                 \n",
      " dense (Dense)               (None, 128)               26214528  \n",
      "                                                                 \n",
      " dense_1 (Dense)             (None, 64)                8256      \n",
      "                                                                 \n",
      " dense_2 (Dense)             (None, 32)                2080      \n",
      "                                                                 \n",
      " dense_3 (Dense)             (None, 4)                 132       \n",
      "                                                                 \n",
      "=================================================================\n",
      "Total params: 40,941,412\n",
      "Trainable params: 26,224,996\n",
      "Non-trainable params: 14,716,416\n",
      "_________________________________________________________________\n"
     ]
    },
    {
     "name": "stderr",
     "output_type": "stream",
     "text": [
      "/home/neel/anaconda3/lib/python3.9/site-packages/keras/optimizers/optimizer_v2/adamax.py:99: UserWarning: The `lr` argument is deprecated, use `learning_rate` instead.\n",
      "  super().__init__(name, **kwargs)\n"
     ]
    },
    {
     "name": "stdout",
     "output_type": "stream",
     "text": [
      "None\n",
      "[INFO] training bounding box regressor...\n",
      "Epoch 1/50\n",
      "18/18 [==============================] - 5s 246ms/step - loss: 1.2570 - val_loss: 1.1250\n",
      "Epoch 2/50\n",
      "18/18 [==============================] - 4s 209ms/step - loss: 1.2570 - val_loss: 1.1250\n",
      "Epoch 3/50\n",
      "18/18 [==============================] - 4s 207ms/step - loss: 1.2570 - val_loss: 1.1250\n",
      "Epoch 4/50\n",
      "18/18 [==============================] - 4s 208ms/step - loss: 1.2570 - val_loss: 1.1250\n",
      "Epoch 5/50\n",
      "18/18 [==============================] - 4s 214ms/step - loss: 1.2570 - val_loss: 1.1250\n",
      "Epoch 6/50\n",
      "18/18 [==============================] - 4s 213ms/step - loss: 1.2570 - val_loss: 1.1250\n",
      "Epoch 7/50\n",
      "18/18 [==============================] - 4s 218ms/step - loss: 1.2570 - val_loss: 1.1250\n",
      "Epoch 8/50\n",
      "18/18 [==============================] - 4s 215ms/step - loss: 1.2570 - val_loss: 1.1250\n",
      "Epoch 9/50\n",
      "18/18 [==============================] - 4s 206ms/step - loss: 1.2570 - val_loss: 1.1250\n",
      "Epoch 10/50\n",
      "18/18 [==============================] - 4s 207ms/step - loss: 1.2570 - val_loss: 1.1250\n",
      "Epoch 11/50\n",
      "18/18 [==============================] - 4s 212ms/step - loss: 1.2570 - val_loss: 1.1250\n",
      "Epoch 12/50\n",
      "18/18 [==============================] - 4s 207ms/step - loss: 1.2570 - val_loss: 1.1250\n",
      "Epoch 13/50\n",
      "18/18 [==============================] - 4s 210ms/step - loss: 1.2570 - val_loss: 1.1250\n",
      "Epoch 14/50\n",
      "18/18 [==============================] - 4s 211ms/step - loss: 1.2570 - val_loss: 1.1250\n",
      "Epoch 15/50\n",
      "18/18 [==============================] - 4s 214ms/step - loss: 1.2570 - val_loss: 1.1250\n",
      "Epoch 16/50\n",
      "18/18 [==============================] - 4s 215ms/step - loss: 1.2570 - val_loss: 1.1250\n",
      "Epoch 17/50\n",
      "18/18 [==============================] - 4s 214ms/step - loss: 1.2570 - val_loss: 1.1250\n",
      "Epoch 18/50\n",
      "18/18 [==============================] - 4s 213ms/step - loss: 1.2570 - val_loss: 1.1250\n",
      "Epoch 19/50\n",
      "18/18 [==============================] - 4s 219ms/step - loss: 1.2570 - val_loss: 1.1250\n",
      "Epoch 20/50\n",
      "18/18 [==============================] - 4s 217ms/step - loss: 1.2570 - val_loss: 1.1250\n",
      "Epoch 21/50\n",
      "18/18 [==============================] - 4s 212ms/step - loss: 1.2570 - val_loss: 1.1250\n",
      "Epoch 22/50\n",
      "18/18 [==============================] - 4s 208ms/step - loss: 1.2570 - val_loss: 1.1250\n",
      "Epoch 23/50\n",
      "18/18 [==============================] - 4s 210ms/step - loss: 1.2570 - val_loss: 1.1250\n",
      "Epoch 24/50\n",
      "18/18 [==============================] - 4s 216ms/step - loss: 1.2570 - val_loss: 1.1250\n",
      "Epoch 25/50\n",
      "18/18 [==============================] - 4s 210ms/step - loss: 1.2570 - val_loss: 1.1250\n",
      "Epoch 26/50\n",
      "18/18 [==============================] - 4s 213ms/step - loss: 1.2570 - val_loss: 1.1250\n",
      "Epoch 27/50\n",
      "18/18 [==============================] - 4s 215ms/step - loss: 1.2570 - val_loss: 1.1250\n",
      "Epoch 28/50\n",
      "18/18 [==============================] - 4s 213ms/step - loss: 1.2570 - val_loss: 1.1250\n",
      "Epoch 29/50\n",
      "18/18 [==============================] - 4s 211ms/step - loss: 1.2570 - val_loss: 1.1250\n",
      "Epoch 30/50\n",
      "18/18 [==============================] - 4s 215ms/step - loss: 1.2570 - val_loss: 1.1250\n",
      "Epoch 31/50\n",
      "18/18 [==============================] - 4s 215ms/step - loss: 1.2570 - val_loss: 1.1250\n",
      "Epoch 32/50\n",
      "18/18 [==============================] - 4s 211ms/step - loss: 1.2570 - val_loss: 1.1250\n",
      "Epoch 33/50\n",
      "18/18 [==============================] - 4s 208ms/step - loss: 1.2570 - val_loss: 1.1250\n",
      "Epoch 34/50\n",
      "18/18 [==============================] - 4s 210ms/step - loss: 1.2570 - val_loss: 1.1250\n",
      "Epoch 35/50\n",
      "18/18 [==============================] - 4s 211ms/step - loss: 1.2570 - val_loss: 1.1250\n",
      "Epoch 36/50\n",
      "18/18 [==============================] - 4s 214ms/step - loss: 1.2570 - val_loss: 1.1250\n",
      "Epoch 37/50\n",
      "18/18 [==============================] - 4s 214ms/step - loss: 1.2570 - val_loss: 1.1250\n",
      "Epoch 38/50\n",
      "18/18 [==============================] - 4s 215ms/step - loss: 1.2570 - val_loss: 1.1250\n",
      "Epoch 39/50\n",
      "18/18 [==============================] - 4s 218ms/step - loss: 1.2570 - val_loss: 1.1250\n",
      "Epoch 40/50\n",
      "18/18 [==============================] - 4s 212ms/step - loss: 1.2570 - val_loss: 1.1250\n",
      "Epoch 41/50\n",
      "18/18 [==============================] - 4s 215ms/step - loss: 1.2570 - val_loss: 1.1250\n",
      "Epoch 42/50\n",
      "18/18 [==============================] - 4s 218ms/step - loss: 1.2570 - val_loss: 1.1250\n",
      "Epoch 43/50\n",
      "18/18 [==============================] - 4s 218ms/step - loss: 1.2570 - val_loss: 1.1250\n",
      "Epoch 44/50\n",
      "18/18 [==============================] - 4s 217ms/step - loss: 1.2570 - val_loss: 1.1250\n",
      "Epoch 45/50\n",
      "18/18 [==============================] - 4s 214ms/step - loss: 1.2570 - val_loss: 1.1250\n",
      "Epoch 46/50\n",
      "18/18 [==============================] - 4s 212ms/step - loss: 1.2570 - val_loss: 1.1250\n",
      "Epoch 47/50\n",
      "18/18 [==============================] - 4s 214ms/step - loss: 1.2570 - val_loss: 1.1250\n",
      "Epoch 48/50\n",
      "18/18 [==============================] - 4s 212ms/step - loss: 1.2570 - val_loss: 1.1250\n",
      "Epoch 49/50\n",
      "18/18 [==============================] - 4s 213ms/step - loss: 1.2570 - val_loss: 1.1250\n",
      "Epoch 50/50\n",
      "18/18 [==============================] - 4s 216ms/step - loss: 1.2570 - val_loss: 1.1250\n",
      "Average Loss:  64.34 %\n"
     ]
    }
   ],
   "source": [
    "opt = Adamax(lr=init_lr)\n",
    "model.compile(loss=tfa.losses.GIoULoss(), optimizer=opt)\n",
    "print(model.summary())\n",
    "# train the network for bounding box regression\n",
    "print(\"[INFO] training bounding box regressor...\")\n",
    "with tf.device(\"/gpu:0\"):\n",
    "\tH = model.fit(\n",
    "\t\ttrainImages, trainTargets,\n",
    "\t\tvalidation_data=(testImages, testTargets),\n",
    "\t\tbatch_size=batch_size,\n",
    "\t\tepochs=epoch,\n",
    "\t\tverbose=1)\n",
    "print (\"Average Loss: \",loss,\"%\")"
   ]
  },
  {
   "cell_type": "code",
   "execution_count": 14,
   "metadata": {},
   "outputs": [
    {
     "name": "stdout",
     "output_type": "stream",
     "text": [
      "[INFO] saving object detector model...\n",
      "Average Loss:  64.34 %\n"
     ]
    },
    {
     "data": {
      "image/png": "[encoded data removed]",
      "text/plain": [
       "<Figure size 640x480 with 1 Axes>"
      ]
     },
     "metadata": {},
     "output_type": "display_data"
    }
   ],
   "source": [
    "print(\"[INFO] saving object detector model...\")\n",
    "model.save(model_path, save_format=\"h5\")\n",
    "N = epoch\n",
    "plt.style.use(\"ggplot\")\n",
    "plt.figure()\n",
    "plt.plot(np.arange(0, N), H.history[\"loss\"], label=\"train_loss\")\n",
    "plt.plot(np.arange(0, N), H.history[\"val_loss\"], label=\"val_loss\")\n",
    "plt.title(\"Bounding Box Regression Loss on Training Set\")\n",
    "plt.xlabel(\"Epoch #\")\n",
    "plt.ylabel(\"Loss\")\n",
    "plt.legend(loc=\"lower left\")\n",
    "plt.savefig(plot_path)\n",
    "print (\"Average Loss: \",loss,\"%\")"
   ]
  },
  {
   "cell_type": "code",
   "execution_count": 41,
   "metadata": {},
   "outputs": [
    {
     "name": "stdout",
     "output_type": "stream",
     "text": [
      "1/1 [==============================] - 0s 120ms/step\n",
      "0 0.557986 0.34213 0.0770833 0.0657407\n",
      "\n",
      "0.50031245 0.5006542 0.4995817 0.50017136\n",
      "1/1 [==============================] - 0s 26ms/step\n",
      "0 0.598958 0.483796 0.0895833 0.062037\n",
      "\n",
      "0.50029516 0.50064373 0.49953735 0.50017947\n",
      "1/1 [==============================] - 0s 24ms/step\n",
      "0 0.901736 0.182407 0.0743056 0.0518519\n",
      "\n",
      "0.50027806 0.5006152 0.49954027 0.5001501\n",
      "1/1 [==============================] - 0s 24ms/step\n",
      "0 0.7125 0.462963 0.0583333 0.0462963\n",
      "\n",
      "0.5002759 0.500638 0.49955562 0.50015575\n",
      "1/1 [==============================] - 0s 26ms/step\n",
      "0 0.64375 0.225463 0.104167 0.0953704\n",
      "\n",
      "0.5003054 0.500652 0.49957585 0.5001723\n",
      "1/1 [==============================] - 0s 24ms/step\n",
      "0 0.486111 0.478241 0.116667 0.0842593\n",
      "\n",
      "0.5003126 0.5006728 0.49957633 0.50018907\n",
      "1/1 [==============================] - 0s 23ms/step\n",
      "0 0.43125 0.356944 0.1125 0.0768519\n",
      "\n",
      "0.5003272 0.50068754 0.49954742 0.5002204\n",
      "1/1 [==============================] - 0s 34ms/step\n",
      "0 0.43125 0.607407 0.0791667 0.0666667\n",
      "\n",
      "0.5002267 0.5006412 0.499535 0.5001373\n",
      "1/1 [==============================] - 0s 26ms/step\n",
      "0 0.594097 0.447222 0.0756944 0.0611111\n",
      "\n",
      "0.50027215 0.5006214 0.49952206 0.500185\n",
      "1/1 [==============================] - 0s 24ms/step\n",
      "0 0.708333 0.433333 0.109722 0.0703704\n",
      "\n",
      "0.50027966 0.500644 0.49956658 0.5001495\n",
      "1/1 [==============================] - 0s 24ms/step\n",
      "0 0.483333 0.181481 0.0583333 0.0537037\n",
      "\n",
      "0.50026536 0.50063366 0.4995135 0.50017536\n",
      "1/1 [==============================] - 0s 24ms/step\n",
      "0 0.920833 0.385648 0.102778 0.0694444\n",
      "\n",
      "0.5002547 0.50068027 0.49951696 0.5001591\n",
      "1/1 [==============================] - 0s 25ms/step\n",
      "0 0.86875 0.237963 0.0777778 0.0537037\n",
      "\n",
      "0.5002851 0.50061613 0.49954313 0.5001782\n",
      "1/1 [==============================] - 0s 23ms/step\n",
      "0 0.508333 0.4125 0.0583333 0.0509259\n",
      "\n",
      "0.5002727 0.50062376 0.49956504 0.5001319\n",
      "1/1 [==============================] - 0s 23ms/step\n",
      "0 0.901736 0.295833 0.06875 0.0509259\n",
      "\n",
      "0.50026786 0.50065804 0.4995687 0.5001439\n",
      "1/1 [==============================] - 0s 23ms/step\n",
      "0 0.482639 0.521296 0.0805556 0.0777778\n",
      "\n",
      "0.5003028 0.50064814 0.49956807 0.5001919\n",
      "1/1 [==============================] - 0s 24ms/step\n",
      "0 0.504861 0.299537 0.0972222 0.087963\n",
      "\n",
      "0.5003341 0.5006685 0.49958822 0.5001921\n",
      "1/1 [==============================] - 0s 25ms/step\n",
      "0 0.772222 0.468056 0.0833333 0.0601852\n",
      "\n",
      "0.5002674 0.5006415 0.49952736 0.5001669\n",
      "1/1 [==============================] - 0s 25ms/step\n",
      "0 0.735764 0.64537 0.128472 0.1\n",
      "\n",
      "0.50030714 0.5006355 0.4995516 0.50018334\n",
      "1/1 [==============================] - 0s 26ms/step\n",
      "0 0.244792 0.3125 0.0895833 0.0638889\n",
      "\n",
      "0.50028574 0.5006499 0.49956742 0.50017273\n",
      "1/1 [==============================] - 0s 25ms/step\n",
      "0 0.510764 0.294907 0.0576389 0.0527778\n",
      "\n",
      "0.5003471 0.5006745 0.49960324 0.50017744\n",
      "1/1 [==============================] - 0s 23ms/step\n",
      "0 0.514236 0.595833 0.138194 0.0916667\n",
      "\n",
      "0.5003073 0.5006517 0.49955824 0.50016594\n",
      "1/1 [==============================] - 0s 24ms/step\n",
      "0 0.607639 0.449074 0.0847222 0.0666667\n",
      "\n",
      "0.50030243 0.50063443 0.49956372 0.50017977\n",
      "1/1 [==============================] - 0s 23ms/step\n",
      "0 0.549653 0.582407 0.0909722 0.101852\n",
      "\n",
      "0.500312 0.5006096 0.49955365 0.5001614\n",
      "1/1 [==============================] - 0s 23ms/step\n",
      "0 0.675 0.477778 0.129167 0.0925926\n",
      "\n",
      "0.5002862 0.50067276 0.49952134 0.5001962\n",
      "1/1 [==============================] - 0s 24ms/step\n",
      "0 0.489931 0.629167 0.110417 0.075\n",
      "\n",
      "0.5002623 0.50063807 0.49952707 0.5001616\n",
      "1/1 [==============================] - 0s 25ms/step\n",
      "0 0.895833 0.297222 0.0666667 0.05\n",
      "\n",
      "0.50025403 0.5006609 0.49951267 0.5001681\n",
      "1/1 [==============================] - 0s 24ms/step\n",
      "0 0.963194 0.601389 0.0736111 0.0657407\n",
      "\n",
      "0.500252 0.5006264 0.49955168 0.5001283\n",
      "1/1 [==============================] - 0s 23ms/step\n",
      "0 0.686458 0.676389 0.0715278 0.0583333\n",
      "\n",
      "0.50027764 0.50064033 0.49960217 0.5001608\n",
      "1/1 [==============================] - 0s 24ms/step\n",
      "0 0.198264 0.528241 0.147917 0.0953704\n",
      "\n",
      "0.50033766 0.5006669 0.49958822 0.50018615\n",
      "1/1 [==============================] - 0s 25ms/step\n",
      "0 0.736111 0.643981 0.1375 0.0972222\n",
      "\n",
      "0.5003099 0.5006407 0.49955502 0.5001682\n",
      "1/1 [==============================] - 0s 24ms/step\n",
      "0 0.842014 0.54213 0.0631944 0.0546296\n",
      "\n",
      "0.5003022 0.500642 0.49959585 0.5001433\n"
     ]
    }
   ],
   "source": [
    "model=load_model(model_path)\n",
    "for img in testFilenames:\n",
    "    imagePath1=os.path.sep.join([spectrogram_path, img[0]])\n",
    "    imagePath2=os.path.sep.join([spectrogram_path, img[1]])\n",
    "    image1 = load_img(imagePath1, target_size=(640, 640))\n",
    "    image2 = load_img(imagePath2, target_size=(640, 640))\n",
    "    image1 = img_to_array(image1) / 255.0\n",
    "    image2 = img_to_array(image2) / 255.0\n",
    "    image1 = np.expand_dims(image1, axis=0)\n",
    "    image2 = np.expand_dims(image2, axis=0)\n",
    "    image=np.concatenate((image1,image2),axis=-1)\n",
    "\n",
    "    preds = model.predict(image)[0]\n",
    "    (startX, startY, endX, endY) = preds\n",
    "    image2 = cv2.imread(os.path.sep.join([\"/home/neel/Acoustic/yolov5_training/img_data/frames\", img[0][9:]]))\n",
    "    image2 = imutils.resize(image2, width=600)\n",
    "    (h, w) = image1.shape[:2]\n",
    "    # startX = startX*w\n",
    "    # startY = startY*h\n",
    "    # endX = endX*w\n",
    "    # endY = endY*h\n",
    "    f=open(\"/home/neel/Acoustic/Acoustics/data/labels/\"+img[0][9:-4]+\".txt\")\n",
    "    print(f.read())\n",
    "    print(startX, startY, endX, endY)\n",
    "    # cv2.rectangle(image2, (startX, startY), (endX, endY),(0, 255, 0), 2)\n",
    "\t# # show the output image\n",
    "    # cv2.imwrite(\"/home/neel/Acoustic/Acoustics/output/test_img/\"+img[0], image2)\n",
    "    # cv2.imshow(\"Output\", image2)\n",
    "    # cv2.waitKey(0)"
   ]
  },
  {
   "cell_type": "code",
   "execution_count": 28,
   "metadata": {},
   "outputs": [
    {
     "name": "stdout",
     "output_type": "stream",
     "text": [
      "/device:GPU:0\n"
     ]
    },
    {
     "name": "stderr",
     "output_type": "stream",
     "text": [
      "2022-11-10 05:27:24.898373: I tensorflow/core/common_runtime/gpu/gpu_device.cc:1616] Created device /device:GPU:0 with 46161 MB memory:  -> device: 0, name: NVIDIA RTX A6000, pci bus id: 0000:19:00.0, compute capability: 8.6\n"
     ]
    }
   ],
   "source": [
    "import tensorflow as tf\n",
    "print(tf.test.gpu_device_name())"
   ]
  },
  {
   "cell_type": "code",
   "execution_count": null,
   "metadata": {},
   "outputs": [],
   "source": []
  }
 ],
 "metadata": {
  "kernelspec": {
   "display_name": "Python 3 (ipykernel)",
   "language": "python",
   "name": "python3"
  },
  "language_info": {
   "codemirror_mode": {
    "name": "ipython",
    "version": 3
   },
   "file_extension": ".py",
   "mimetype": "text/x-python",
   "name": "python",
   "nbconvert_exporter": "python",
   "pygments_lexer": "ipython3",
   "version": "3.9.13"
  },
  "vscode": {
   "interpreter": {
    "hash": "1e7274ed0f6198f0b80ec6c61f69697cbc6657ab90adeb9c17021c87e139f38f"
   }
  }
 },
 "nbformat": 4,
 "nbformat_minor": 2
}
