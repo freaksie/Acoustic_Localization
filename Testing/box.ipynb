{
 "cells": [
  {
   "cell_type": "code",
   "execution_count": 1,
   "metadata": {},
   "outputs": [],
   "source": [
    "import matplotlib.pyplot as plt\n",
    "from matplotlib import patches\n",
    "result=\"/home/neel/Acoustic/Acoustics/Testing/datas/result.csv\"\n",
    "rows = open(result).read().strip().split(\"\\n\")\n",
    "frame_dest=\"/home/neel/Acoustic/Acoustics/Testing/datas/frames/\"\n",
    "frame_output=\"/home/neel/Acoustic/Acoustics/Testing/datas/output_frames/\"\n",
    "for i in range(0,4200):\n",
    "    row = rows[i].split(\",\")\n",
    "    (image_name, startX, startY, width, height) = row\n",
    "    image_source=frame_dest+image_name\n",
    "    image_desination=frame_output+image_name\n",
    "    fig = plt.figure()\n",
    "    ax = fig.add_axes([0,0,1,1])\n",
    "    image = plt.imread(image_source)\n",
    "    plt.imshow(image)\n",
    "    plt.axis('off')\n",
    "    startX,startY,width,height=float(startX),float(startY),float(width),float(height)\n",
    "    ax.add_patch(patches.Rectangle((startX,startY), width, height, edgecolor='r', facecolor='none'))\n",
    "    plt.savefig(image_desination,bbox_inches='tight', pad_inches=0)\n",
    "    plt.close()\n",
    "    del fig,image"
   ]
  },
  {
   "cell_type": "code",
   "execution_count": 2,
   "metadata": {},
   "outputs": [],
   "source": [
    "import cv2\n",
    "import numpy as np\n",
    "import glob\n",
    "import os\n",
    "import natsort\n",
    "\n",
    "frameSize = (640, 360)\n",
    "image=\"/home/neel/Acoustic/Acoustics/Testing/datas/output_frames/*.jpg\"\n",
    "video=\"/home/neel/Acoustic/Acoustics/Testing/datas/output/cnn_obst_9000.avi\"\n",
    "out = cv2.VideoWriter(video,cv2.VideoWriter_fourcc(*'DIVX'), 30, frameSize)\n",
    "\n",
    "for filename in  natsort.natsorted(glob.glob(image)):\n",
    "    img = cv2.imread(filename)\n",
    "    out.write(img)\n",
    "\n",
    "out.release()"
   ]
  },
  {
   "cell_type": "code",
   "execution_count": null,
   "metadata": {},
   "outputs": [],
   "source": []
  }
 ],
 "metadata": {
  "kernelspec": {
   "display_name": "base",
   "language": "python",
   "name": "python3"
  },
  "language_info": {
   "codemirror_mode": {
    "name": "ipython",
    "version": 3
   },
   "file_extension": ".py",
   "mimetype": "text/x-python",
   "name": "python",
   "nbconvert_exporter": "python",
   "pygments_lexer": "ipython3",
   "version": "3.9.13 (main, Aug 25 2022, 23:26:10) \n[GCC 11.2.0]"
  },
  "orig_nbformat": 4,
  "vscode": {
   "interpreter": {
    "hash": "1e7274ed0f6198f0b80ec6c61f69697cbc6657ab90adeb9c17021c87e139f38f"
   }
  }
 },
 "nbformat": 4,
 "nbformat_minor": 2
}
